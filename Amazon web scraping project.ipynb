{
 "cells": [
  {
   "cell_type": "code",
   "execution_count": 1,
   "id": "0e14138e",
   "metadata": {},
   "outputs": [],
   "source": [
    "from bs4 import BeautifulSoup\n",
    "import requests\n",
    "import smtplib\n",
    "import time\n",
    "import datetime"
   ]
  },
  {
   "cell_type": "code",
   "execution_count": 12,
   "id": "903f34bc",
   "metadata": {},
   "outputs": [],
   "source": [
    "url='https://www.amazon.com/Funny-Data-Systems-Business-Analyst/dp/B07FNW9FGJ/ref=sr_1_3?dchild=1&keywords=data%2Banalys'\n",
    "headers={ \"User-Agent\": \"Mozilla/5.0 (Windows NT 10.0; Win64; x64) AppleWebKit/537.36 (KHTML, like Gecko) Chrome/121.0.0.0 Safari/537.36 Edg/121.0.0.0\", \"Accept-Encoding\":\"gzip, deflate\", \"Accept\":\"text/html,application/xhtml+xml,application/xml;q=0.9,*/*;q=0.8\", \"DNT\":\"1\",\"Connection\":\"close\", \"Upgrade-Insecure-Requests\":\"1\"}\n",
    "page=requests.get(url,headers=headers)\n"
   ]
  },
  {
   "cell_type": "code",
   "execution_count": 13,
   "id": "b3eaeb75",
   "metadata": {},
   "outputs": [],
   "source": [
    "soup1=BeautifulSoup(page.content,'html.parser')\n",
    "soup2=BeautifulSoup(soup1.prettify(),'html.parser')\n"
   ]
  },
  {
   "cell_type": "code",
   "execution_count": 14,
   "id": "19a93e7d",
   "metadata": {},
   "outputs": [
    {
     "name": "stdout",
     "output_type": "stream",
     "text": [
      "Funny Got Data MIS Data Systems Business Analyst T-Shirt\n",
      "19 ratings\n"
     ]
    }
   ],
   "source": [
    "title = soup2.find(id='productTitle').get_text()\n",
    "ratings=soup2.find(id=\"acrCustomerReviewText\").get_text()\n",
    "\n",
    "title=title.strip()\n",
    "ratings=ratings.strip()\n",
    "print(title)\n",
    "print(ratings)"
   ]
  },
  {
   "cell_type": "code",
   "execution_count": 15,
   "id": "dfd33fb8",
   "metadata": {},
   "outputs": [
    {
     "name": "stdout",
     "output_type": "stream",
     "text": [
      "2024-02-09\n"
     ]
    }
   ],
   "source": [
    "today=datetime.date.today()\n",
    "print(today)"
   ]
  },
  {
   "cell_type": "code",
   "execution_count": 16,
   "id": "61b761fe",
   "metadata": {},
   "outputs": [],
   "source": [
    "#\n",
    "import csv\n",
    "\n",
    "header=['Title','Ratings',\"Date\"]\n",
    "data=[title,ratings,today]\n",
    "\n",
    "#with open('AmazonWebScrapingDataset.csv','w',newline='',encoding='utf-8') as f:\n",
    "  #  writer=csv.writer(f)\n",
    "   # writer.writerow(header)\n",
    "    #writer.writerow(data)\n",
    "    "
   ]
  },
  {
   "cell_type": "code",
   "execution_count": 17,
   "id": "112e3260",
   "metadata": {},
   "outputs": [],
   "source": [
    "\n",
    "import pandas as pd\n",
    "data_frame = pd.read_csv(r\"C:\\Users\\yusuf\\Desktop\\Data Analyst Bootcamp\\PortfolioProjects\\AmazonWebScrapingDataset.csv\")\n"
   ]
  },
  {
   "cell_type": "code",
   "execution_count": 19,
   "id": "234aaf5b",
   "metadata": {},
   "outputs": [
    {
     "data": {
      "text/html": [
       "<div>\n",
       "<style scoped>\n",
       "    .dataframe tbody tr th:only-of-type {\n",
       "        vertical-align: middle;\n",
       "    }\n",
       "\n",
       "    .dataframe tbody tr th {\n",
       "        vertical-align: top;\n",
       "    }\n",
       "\n",
       "    .dataframe thead th {\n",
       "        text-align: right;\n",
       "    }\n",
       "</style>\n",
       "<table border=\"1\" class=\"dataframe\">\n",
       "  <thead>\n",
       "    <tr style=\"text-align: right;\">\n",
       "      <th></th>\n",
       "      <th>Title</th>\n",
       "      <th>Ratings</th>\n",
       "      <th>Date</th>\n",
       "    </tr>\n",
       "  </thead>\n",
       "  <tbody>\n",
       "    <tr>\n",
       "      <th>0</th>\n",
       "      <td>Funny Got Data MIS Data Systems Business Analy...</td>\n",
       "      <td>19 ratings</td>\n",
       "      <td>2024-02-09</td>\n",
       "    </tr>\n",
       "  </tbody>\n",
       "</table>\n",
       "</div>"
      ],
      "text/plain": [
       "                                               Title     Ratings        Date\n",
       "0  Funny Got Data MIS Data Systems Business Analy...  19 ratings  2024-02-09"
      ]
     },
     "execution_count": 19,
     "metadata": {},
     "output_type": "execute_result"
    }
   ],
   "source": [
    "data_frame.head()"
   ]
  },
  {
   "cell_type": "code",
   "execution_count": 20,
   "id": "954029c2",
   "metadata": {},
   "outputs": [],
   "source": [
    "with open('AmazonWebScrapingDataset.csv','a+',newline='',encoding='utf-8') as f:\n",
    "    writer=csv.writer(f)\n",
    "    writer.writerow(data)"
   ]
  },
  {
   "cell_type": "code",
   "execution_count": 58,
   "id": "8ac64631",
   "metadata": {},
   "outputs": [],
   "source": [
    "def check_Ratings_Count():\n",
    "    url='https://www.amazon.com/Funny-Data-Systems-Business-Analyst/dp/B07FNW9FGJ/ref=sr_1_3?dchild=1&keywords=data%2Banalys'\n",
    "    headers={ \"User-Agent\": \"Mozilla/5.0 (Windows NT 10.0; Win64; x64) AppleWebKit/537.36 (KHTML, like Gecko) Chrome/121.0.0.0 Safari/537.36 Edg/121.0.0.0\", \"Accept-Encoding\":\"gzip, deflate\", \"Accept\":\"text/html,application/xhtml+xml,application/xml;q=0.9,*/*;q=0.8\", \"DNT\":\"1\",\"Connection\":\"close\", \"Upgrade-Insecure-Requests\":\"1\"}\n",
    "    page=requests.get(url,headers=headers)\n",
    "    soup1=BeautifulSoup(page.content,'html.parser')\n",
    "    soup2=BeautifulSoup(soup1.prettify(),'html.parser')\n",
    "    title = soup2.find(id='productTitle').get_text()\n",
    "    ratings=soup2.find(id=\"acrCustomerReviewText\").get_text()\n",
    "    title=title.strip()\n",
    "    ratings=ratings.strip()\n",
    "    today=datetime.date.today()\n",
    "    import csv\n",
    "    header=['Title','Ratings',\"Date\"]\n",
    "    data=[title,ratings,today]\n",
    "    with open('AmazonWebScrapingDataset.csv','a+',newline='',encoding='utf-8') as f:\n",
    "        writer=csv.writer(f)\n",
    "        writer.writerow(data)"
   ]
  },
  {
   "cell_type": "code",
   "execution_count": null,
   "id": "3ecdd6fc",
   "metadata": {},
   "outputs": [],
   "source": [
    "# Runs check_Ratings_count after a set time and inputs data into your CSV\n",
    "\n",
    "while(True):\n",
    "    check_Ratings_Count()\n",
    "    time.sleep(86400)"
   ]
  },
  {
   "cell_type": "code",
   "execution_count": null,
   "id": "457ca97f",
   "metadata": {},
   "outputs": [],
   "source": []
  },
  {
   "cell_type": "code",
   "execution_count": null,
   "id": "18902cb1",
   "metadata": {},
   "outputs": [],
   "source": []
  },
  {
   "cell_type": "code",
   "execution_count": null,
   "id": "b05a6db4",
   "metadata": {},
   "outputs": [],
   "source": []
  }
 ],
 "metadata": {
  "kernelspec": {
   "display_name": "Python 3 (ipykernel)",
   "language": "python",
   "name": "python3"
  },
  "language_info": {
   "codemirror_mode": {
    "name": "ipython",
    "version": 3
   },
   "file_extension": ".py",
   "mimetype": "text/x-python",
   "name": "python",
   "nbconvert_exporter": "python",
   "pygments_lexer": "ipython3",
   "version": "3.11.4"
  }
 },
 "nbformat": 4,
 "nbformat_minor": 5
}
